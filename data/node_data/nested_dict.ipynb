{
 "cells": [
  {
   "cell_type": "code",
   "execution_count": 6,
   "metadata": {},
   "outputs": [],
   "source": [
    "import pandas as pd\n",
    "import requests\n",
    "import json\n",
    "\n",
    "url_nodes = \"https://api.arrayofthings.org/api/nodes\"\n",
    "url_obser = \"https://api.arrayofthings.org/api/observations\"\n",
    "url_sensor = \"https://api.arrayofthings.org/api/sensors\"\n",
    "\n",
    "\n",
    "\n",
    "def sensors_df():\n",
    "    sensor_data = []\n",
    "    resp = requests.get(url_sensor)\n",
    "    sensors = resp.json()\n",
    "    sensor_meta = sensors[\"meta\"]\n",
    "    sensors_data = sensors[\"data\"]\n",
    "    for data in sensors_data:\n",
    "        sensor_dict = { \"path\": data[\"path\"],\n",
    "                       \"min_value\": data[\"min\"],\n",
    "                       \"max_value\": data[\"max\"],\n",
    "                       \"uom\": data[\"uom\"]}\n",
    "        sensor_data.append(sensor_dict)\n",
    "    print(\"Information about sensor_df\")\n",
    "    sensor_df = pd.DataFrame(sensor_data)\n",
    "    return sensor_df\n",
    "    \n",
    "\n",
    "def node_df():\n",
    "    node_data = []\n",
    "    resp = requests.get(url_nodes)\n",
    "    nodes = resp.json()\n",
    "    nodes_meta = nodes[\"meta\"]\n",
    "    nodes_data = nodes[\"data\"]\n",
    "    for data in nodes_data:\n",
    "        location = data[\"location\"][\"geometry\"][\"coordinates\"]\n",
    "        node_dict = {\"EPSG:4326_Long\": location[0],\n",
    "                     \"EPSG:4326_Lat\": location[1],\n",
    "                   \"Address\": data[\"address\"],\n",
    "                   'Description': data['description']}\n",
    "        node_data.append(node_dict)  \n",
    "    print(\"Information about available AOT nodes:\")\n",
    "    node_df = pd.DataFrame(node_data)\n",
    "    return node_df\n",
    "\n",
    "\n",
    "def observation_df():\n",
    "    observation_data = []\n",
    "    resp = requests.get(url_obser, stream= True)\n",
    "    observ = resp.json()\n",
    "    observ_meta = observ[\"meta\"]\n",
    "    observ_data = observ[\"data\"]\n",
    "    for data in observ_data:\n",
    "        location = data[\"location\"][\"geometry\"][\"coordinates\"]\n",
    "        observ_dict = {\"EPSG:4326_Long\": location[0],\n",
    "                     \"EPSG:4326_Lat\": location[1],\n",
    "                     \"Measurement\": data[\"value\"],\n",
    "                     'Uom': data['uom'],\n",
    "                     'Timestamp':data['timestamp'],\n",
    "                     \"Sensor_path\":data[\"sensor_path\"],\n",
    "                     \"Node_version\":data[\"node_vsn\"]\n",
    "                     \n",
    "                        }\n",
    "        observation_data.append(observ_dict)  \n",
    "    print(\" AOT obervation data:\")\n",
    "    observ_df = pd.DataFrame(observation_data)\n",
    "    return observ_df"
   ]
  },
  {
   "cell_type": "code",
   "execution_count": 7,
   "metadata": {},
   "outputs": [
    {
     "name": "stdout",
     "output_type": "stream",
     "text": [
      " AOT obervation data:\n"
     ]
    }
   ],
   "source": [
    "observation_df().to_csv(\"./master_df.csv\")"
   ]
  },
  {
   "cell_type": "code",
   "execution_count": 12,
   "metadata": {},
   "outputs": [
    {
     "name": "stdout",
     "output_type": "stream",
     "text": [
      "Information about available AOT nodes:\n"
     ]
    }
   ],
   "source": [
    "node_df().to_csv('./chicago_nodes.csv')"
   ]
  },
  {
   "cell_type": "code",
   "execution_count": 13,
   "metadata": {},
   "outputs": [
    {
     "data": {
      "text/plain": [
       "'/home/arjun/Array_of_things/leaflet_map/src/data/node_data'"
      ]
     },
     "execution_count": 13,
     "metadata": {},
     "output_type": "execute_result"
    }
   ],
   "source": [
    "pwd"
   ]
  },
  {
   "cell_type": "code",
   "execution_count": 8,
   "metadata": {},
   "outputs": [],
   "source": [
    "import os\n",
    "import schedule\n",
    "import time\n",
    "import functools\n",
    "from datetime import date\n",
    "\n",
    "\n",
    "def with_logging(func):\n",
    "    @functools.wraps(func)\n",
    "    def wrapper(*args, **kwargs):\n",
    "        print('LOG: Running job \"%s\"' % func.__name__)\n",
    "        result = func(*args, **kwargs)\n",
    "        print('LOG: Job \"%s\" completed' % func.__name__)\n",
    "        return result\n",
    "    return wrapper\n",
    "\n",
    "@with_logging\n",
    "def create_master_df():\n",
    "    master_df = pd.read_csv('./master_df.csv')\n",
    "    observ_df = observation_df()\n",
    "    master_df = master_df.append(observ_df)\n",
    "    if os.path.exists(\"./master_df.csv\"):\n",
    "        os.remove(\"./master_df.csv\")\n",
    "    master_df.to_csv('./master_df.csv')\n",
    " \n",
    "@with_logging\n",
    "def create_data_backup(DATA_BACK_UP_TIME):\n",
    "    if os.path.exists(\"./master_df.csv\"):\n",
    "        back_up_file = pd.read_csv(\"./master_df.csv\")\n",
    "        back_up_file.to_csv(f\"{date.today()}_master_df.csv\")\n",
    "        \n",
    "    "
   ]
  },
  {
   "cell_type": "code",
   "execution_count": 10,
   "metadata": {},
   "outputs": [
    {
     "name": "stdout",
     "output_type": "stream",
     "text": [
      "Schedule Started\n"
     ]
    }
   ],
   "source": [
    "\n",
    "schedule.every(5).minutes.do(create_master_df)\n",
    "#schedule.every().day.at(\"5:00\").do(create_data_backup)\n",
    "print(\"Schedule Started\")\n",
    "\n",
    "#while True:\n",
    "#    schedule.run_pending()\n",
    "#    time.sleep(1)"
   ]
  },
  {
   "cell_type": "code",
   "execution_count": null,
   "metadata": {},
   "outputs": [],
   "source": []
  }
 ],
 "metadata": {
  "kernelspec": {
   "display_name": "env_spark_aot",
   "language": "python",
   "name": "env_spark_aot"
  },
  "language_info": {
   "codemirror_mode": {
    "name": "ipython",
    "version": 3
   },
   "file_extension": ".py",
   "mimetype": "text/x-python",
   "name": "python",
   "nbconvert_exporter": "python",
   "pygments_lexer": "ipython3",
   "version": "3.7.6"
  }
 },
 "nbformat": 4,
 "nbformat_minor": 4
}
